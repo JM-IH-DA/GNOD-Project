{
 "cells": [
  {
   "cell_type": "markdown",
   "id": "d40985be",
   "metadata": {},
   "source": [
    "# GNOD Project"
   ]
  },
  {
   "cell_type": "markdown",
   "id": "6bb35c74",
   "metadata": {},
   "source": [
    "----------"
   ]
  },
  {
   "cell_type": "markdown",
   "id": "4321649d",
   "metadata": {},
   "source": [
    "### Importing libraries:"
   ]
  },
  {
   "cell_type": "code",
   "execution_count": 1,
   "id": "1a003637",
   "metadata": {},
   "outputs": [],
   "source": [
    "import pandas as pd\n",
    "import numpy as np\n",
    "import spotipy\n",
    "from spotipy.oauth2 import SpotifyClientCredentials\n",
    "from sklearn import cluster, datasets\n",
    "from sklearn.preprocessing import StandardScaler\n",
    "from sklearn.cluster import KMeans\n",
    "import pickle\n",
    "import sys\n",
    "import warnings\n",
    "warnings.filterwarnings(\"ignore\")"
   ]
  },
  {
   "cell_type": "markdown",
   "id": "c4eae1ac",
   "metadata": {},
   "source": [
    "--------"
   ]
  },
  {
   "cell_type": "markdown",
   "id": "b56a022b",
   "metadata": {},
   "source": [
    "### Loading data:"
   ]
  },
  {
   "cell_type": "code",
   "execution_count": 2,
   "id": "8eab82cd",
   "metadata": {},
   "outputs": [],
   "source": [
    "clusters = pd.read_csv('df_with_cluster.csv')"
   ]
  },
  {
   "cell_type": "code",
   "execution_count": 3,
   "id": "840477bf",
   "metadata": {},
   "outputs": [
    {
     "data": {
      "text/html": [
       "<div>\n",
       "<style scoped>\n",
       "    .dataframe tbody tr th:only-of-type {\n",
       "        vertical-align: middle;\n",
       "    }\n",
       "\n",
       "    .dataframe tbody tr th {\n",
       "        vertical-align: top;\n",
       "    }\n",
       "\n",
       "    .dataframe thead th {\n",
       "        text-align: right;\n",
       "    }\n",
       "</style>\n",
       "<table border=\"1\" class=\"dataframe\">\n",
       "  <thead>\n",
       "    <tr style=\"text-align: right;\">\n",
       "      <th></th>\n",
       "      <th>song</th>\n",
       "      <th>artist</th>\n",
       "      <th>cluster</th>\n",
       "    </tr>\n",
       "  </thead>\n",
       "  <tbody>\n",
       "    <tr>\n",
       "      <th>0</th>\n",
       "      <td>like a rolling stone</td>\n",
       "      <td>bob dylan</td>\n",
       "      <td>5</td>\n",
       "    </tr>\n",
       "    <tr>\n",
       "      <th>1</th>\n",
       "      <td>smells like teen spirit</td>\n",
       "      <td>nirvana</td>\n",
       "      <td>1</td>\n",
       "    </tr>\n",
       "    <tr>\n",
       "      <th>2</th>\n",
       "      <td>a day in the life - remastered</td>\n",
       "      <td>the beatles</td>\n",
       "      <td>9</td>\n",
       "    </tr>\n",
       "    <tr>\n",
       "      <th>3</th>\n",
       "      <td>good vibrations (mono)</td>\n",
       "      <td>the beach boys</td>\n",
       "      <td>5</td>\n",
       "    </tr>\n",
       "    <tr>\n",
       "      <th>4</th>\n",
       "      <td>johnny b goode</td>\n",
       "      <td>chuck berry</td>\n",
       "      <td>6</td>\n",
       "    </tr>\n",
       "    <tr>\n",
       "      <th>...</th>\n",
       "      <td>...</td>\n",
       "      <td>...</td>\n",
       "      <td>...</td>\n",
       "    </tr>\n",
       "    <tr>\n",
       "      <th>42820</th>\n",
       "      <td>legs - remix</td>\n",
       "      <td>zz top</td>\n",
       "      <td>1</td>\n",
       "    </tr>\n",
       "    <tr>\n",
       "      <th>42821</th>\n",
       "      <td>tush - 2006 remaster</td>\n",
       "      <td>zz top</td>\n",
       "      <td>0</td>\n",
       "    </tr>\n",
       "    <tr>\n",
       "      <th>42822</th>\n",
       "      <td>control</td>\n",
       "      <td>zoe wees</td>\n",
       "      <td>5</td>\n",
       "    </tr>\n",
       "    <tr>\n",
       "      <th>42823</th>\n",
       "      <td>blue feat. ilse de lange</td>\n",
       "      <td>zucchero</td>\n",
       "      <td>8</td>\n",
       "    </tr>\n",
       "    <tr>\n",
       "      <th>42824</th>\n",
       "      <td>all for love - from \"the three musketeers\" sou...</td>\n",
       "      <td>bryan adams</td>\n",
       "      <td>5</td>\n",
       "    </tr>\n",
       "  </tbody>\n",
       "</table>\n",
       "<p>42825 rows × 3 columns</p>\n",
       "</div>"
      ],
      "text/plain": [
       "                                                    song          artist  \\\n",
       "0                                   like a rolling stone       bob dylan   \n",
       "1                                smells like teen spirit         nirvana   \n",
       "2                         a day in the life - remastered     the beatles   \n",
       "3                                 good vibrations (mono)  the beach boys   \n",
       "4                                         johnny b goode     chuck berry   \n",
       "...                                                  ...             ...   \n",
       "42820                                       legs - remix          zz top   \n",
       "42821                               tush - 2006 remaster          zz top   \n",
       "42822                                            control        zoe wees   \n",
       "42823                           blue feat. ilse de lange        zucchero   \n",
       "42824  all for love - from \"the three musketeers\" sou...     bryan adams   \n",
       "\n",
       "       cluster  \n",
       "0            5  \n",
       "1            1  \n",
       "2            9  \n",
       "3            5  \n",
       "4            6  \n",
       "...        ...  \n",
       "42820        1  \n",
       "42821        0  \n",
       "42822        5  \n",
       "42823        8  \n",
       "42824        5  \n",
       "\n",
       "[42825 rows x 3 columns]"
      ]
     },
     "execution_count": 3,
     "metadata": {},
     "output_type": "execute_result"
    }
   ],
   "source": [
    "clusters"
   ]
  },
  {
   "cell_type": "code",
   "execution_count": 4,
   "id": "b5c5396c",
   "metadata": {},
   "outputs": [],
   "source": [
    "hot_songs = pd.read_csv('hot_songs_cleaned.csv')"
   ]
  },
  {
   "cell_type": "code",
   "execution_count": 5,
   "id": "044da01e",
   "metadata": {
    "scrolled": false
   },
   "outputs": [
    {
     "data": {
      "text/html": [
       "<div>\n",
       "<style scoped>\n",
       "    .dataframe tbody tr th:only-of-type {\n",
       "        vertical-align: middle;\n",
       "    }\n",
       "\n",
       "    .dataframe tbody tr th {\n",
       "        vertical-align: top;\n",
       "    }\n",
       "\n",
       "    .dataframe thead th {\n",
       "        text-align: right;\n",
       "    }\n",
       "</style>\n",
       "<table border=\"1\" class=\"dataframe\">\n",
       "  <thead>\n",
       "    <tr style=\"text-align: right;\">\n",
       "      <th></th>\n",
       "      <th>song</th>\n",
       "      <th>artist</th>\n",
       "    </tr>\n",
       "  </thead>\n",
       "  <tbody>\n",
       "    <tr>\n",
       "      <th>0</th>\n",
       "      <td>lovin on me</td>\n",
       "      <td>jack harlow</td>\n",
       "    </tr>\n",
       "    <tr>\n",
       "      <th>1</th>\n",
       "      <td>lil boo thang</td>\n",
       "      <td>paul russell</td>\n",
       "    </tr>\n",
       "    <tr>\n",
       "      <th>2</th>\n",
       "      <td>white horse</td>\n",
       "      <td>chris stapleton</td>\n",
       "    </tr>\n",
       "    <tr>\n",
       "      <th>3</th>\n",
       "      <td>i remember everything (feat. kacey musgraves)</td>\n",
       "      <td>zach bryan</td>\n",
       "    </tr>\n",
       "    <tr>\n",
       "      <th>4</th>\n",
       "      <td>around me the cold night</td>\n",
       "      <td>luminara stellaris</td>\n",
       "    </tr>\n",
       "    <tr>\n",
       "      <th>...</th>\n",
       "      <td>...</td>\n",
       "      <td>...</td>\n",
       "    </tr>\n",
       "    <tr>\n",
       "      <th>173</th>\n",
       "      <td>mi ex tenia razon</td>\n",
       "      <td>karol g</td>\n",
       "    </tr>\n",
       "    <tr>\n",
       "      <th>174</th>\n",
       "      <td>different 'round here</td>\n",
       "      <td>riley green featuring luke combs</td>\n",
       "    </tr>\n",
       "    <tr>\n",
       "      <th>175</th>\n",
       "      <td>but i got a beer in my hand</td>\n",
       "      <td>luke bryan</td>\n",
       "    </tr>\n",
       "    <tr>\n",
       "      <th>176</th>\n",
       "      <td>better than ever</td>\n",
       "      <td>youngboy never broke again &amp; rod wave</td>\n",
       "    </tr>\n",
       "    <tr>\n",
       "      <th>177</th>\n",
       "      <td>soak city (do it)</td>\n",
       "      <td>310babii</td>\n",
       "    </tr>\n",
       "  </tbody>\n",
       "</table>\n",
       "<p>178 rows × 2 columns</p>\n",
       "</div>"
      ],
      "text/plain": [
       "                                              song  \\\n",
       "0                                      lovin on me   \n",
       "1                                    lil boo thang   \n",
       "2                                      white horse   \n",
       "3    i remember everything (feat. kacey musgraves)   \n",
       "4                         around me the cold night   \n",
       "..                                             ...   \n",
       "173                              mi ex tenia razon   \n",
       "174                          different 'round here   \n",
       "175                    but i got a beer in my hand   \n",
       "176                               better than ever   \n",
       "177                              soak city (do it)   \n",
       "\n",
       "                                    artist  \n",
       "0                              jack harlow  \n",
       "1                             paul russell  \n",
       "2                          chris stapleton  \n",
       "3                               zach bryan  \n",
       "4                       luminara stellaris  \n",
       "..                                     ...  \n",
       "173                                karol g  \n",
       "174       riley green featuring luke combs  \n",
       "175                             luke bryan  \n",
       "176  youngboy never broke again & rod wave  \n",
       "177                               310babii  \n",
       "\n",
       "[178 rows x 2 columns]"
      ]
     },
     "execution_count": 5,
     "metadata": {},
     "output_type": "execute_result"
    }
   ],
   "source": [
    "hot_songs"
   ]
  },
  {
   "cell_type": "markdown",
   "id": "5fe74552",
   "metadata": {},
   "source": [
    "-----------"
   ]
  },
  {
   "cell_type": "markdown",
   "id": "ad6a5346",
   "metadata": {},
   "source": [
    "### Recommender:"
   ]
  },
  {
   "cell_type": "code",
   "execution_count": 6,
   "id": "6393a763",
   "metadata": {},
   "outputs": [],
   "source": [
    "def song_recommender():\n",
    "\n",
    "    # 1. Welcome message:\n",
    "\n",
    "    print(\"🎵 Welcome to the Song Recommender! 🎵\")\n",
    "    print(\"Let's explore some amazing tunes together!\")\n",
    "\n",
    "    # 2. Set() function to store input and rejected songs with both song and artist:\n",
    "\n",
    "    rejected_songs = set()\n",
    "\n",
    "    # 3. Continuous loop for song/artist match, song recommendation and excluding the input and rejected songs:\n",
    "\n",
    "    while True:\n",
    "    \n",
    "        # 4. Prompting the user for a song title and artist:\n",
    "\n",
    "        input_song = input('Enter the title of a song: ').lower()\n",
    "        input_artist = input('Enter the artist: ').lower()\n",
    "    \n",
    "        # 5. Input validation: Check if both song title and artist are provided:\n",
    "    \n",
    "        if not input_song or not input_artist:\n",
    "            print(\"Please make sure to provide both a song title and an artist name.\")\n",
    "            continue\n",
    "        \n",
    "        # 6. Loop for handling recommendations based on hot_songs df:\n",
    "\n",
    "        while True:\n",
    "    \n",
    "            # 7. Check if the input song and artist exist in the hot_songs df:\n",
    "    \n",
    "            if input_song in hot_songs['song'].str.lower().values and input_artist in hot_songs['artist'].str.lower().values:\n",
    "        \n",
    "                # 8. Filter available songs excluding rejected ones:\n",
    "        \n",
    "                available_songs = hot_songs[~hot_songs.apply(lambda x: (x['song'].lower(), x['artist'].lower()) in rejected_songs, axis=1)]\n",
    "            \n",
    "                # 9. If no more available recommendations, inform the user:\n",
    "            \n",
    "                if available_songs.empty:\n",
    "                    print(\"Sorry, no more recommendations available.\")\n",
    "                    break\n",
    "        \n",
    "                # 10. Present a recommended song different from input & the ones rejected by the user:\n",
    "        \n",
    "                recommended_song = hot_songs[(hot_songs['song'].str.lower() != input_song) & \n",
    "                                   (hot_songs['artist'].str.lower() != input_artist) &\n",
    "                                   (~hot_songs.apply(lambda x: (x['song'].lower(), x['artist'].lower()) in rejected_songs, axis=1))].sample(1)\n",
    "\n",
    "                print(f\"'Your selected song: {input_song}' by '{input_artist}'! Let me recommend something else for you:\")\n",
    "                print(f\"Title: {recommended_song['song'].values[0]}, Artist: {recommended_song['artist'].values[0]}\")\n",
    "\n",
    "            \n",
    "                # 11. Ask for user feedback on the recommendation:\n",
    "            \n",
    "                feedback = input(\"Was this recommendation okay for you? (yes/no): \").lower()\n",
    "    \n",
    "                # 12. Handle user feedback:\n",
    "    \n",
    "                if feedback.lower() == 'yes':\n",
    "                    print(\"Awesome! I'm glad you liked it.Enjoy your music adventure!\")\n",
    "                    print(\"By the way, did you know that music is the best companion? It's like a good friend always ready to groove with you!\")\n",
    "                    print(\"Remember, music has no boundaries - it's a language everyone understands!\")\n",
    "                    sys.exit(\"🎉 Congratulations! You've found a fantastic recommendation! Enjoy your tunes and have a fantastic day! 🎵🌟\")\n",
    "                      \n",
    "                else:\n",
    "                \n",
    "                    # 13. Add rejected song to the set and continue the loop\n",
    "                \n",
    "                    rejected_songs.add((recommended_song['song'].values[0].lower(), recommended_song['artist'].values[0]))\n",
    "                    continue\n",
    "            else:\n",
    "            \n",
    "                # 14. If song not on hot_songs, create connection with spotify:\n",
    "            \n",
    "                secrets_file = open(\"ss.txt\",\"r\")\n",
    "                string = secrets_file.read()\n",
    "                secrets_dict={}\n",
    "                for line in string.split('\\n'):\n",
    "                    if len(line) > 0:\n",
    "                        secrets_dict[line.split(':')[0]]=line.split(':')[1].strip()\n",
    "                sp = spotipy.Spotify(auth_manager=SpotifyClientCredentials(client_id=secrets_dict['clientid'],\n",
    "                    client_secret=secrets_dict['clientsecret']))\n",
    "                results = sp.search(q='track:' + input_song, type='track')\n",
    "    \n",
    "                # 15. Get song id and features and search in clusters:\n",
    "    \n",
    "                if results['tracks']['items']:\n",
    "                    song_id = results['tracks']['items'][0]['id']\n",
    "                    input_features = sp.audio_features(song_id)\n",
    "                    input_df = pd.DataFrame(input_features)\n",
    "                    selected_features = input_df.select_dtypes(include=np.number)\n",
    "                    selected_features_df = pd.DataFrame(selected_features, columns=selected_features.columns)\n",
    "\n",
    "                    # 16. Apply scaler and kmeans prediction:\n",
    "            \n",
    "                    scaler = pickle.load(open('scaler.pkl', 'rb'))\n",
    "                    kmeans = pickle.load(open('kmeans_model.pkl', 'rb'))\n",
    "\n",
    "                    scaled_features = scaler.transform(selected_features_df)\n",
    "                    predicted_cluster = kmeans.predict(scaled_features)\n",
    "\n",
    "                    # 17. Filter clusters df with the predicted cluster:\n",
    "                \n",
    "                    cluster_df = clusters[clusters['cluster'] == predicted_cluster[0]] \n",
    "              \n",
    "                    # 18. Filter available songs, same cluster, excluding input and rejected ones:\n",
    "            \n",
    "                    available_songs2 = cluster_df[~cluster_df.apply(lambda x: (x['song'].lower(), x['artist'].lower()) in rejected_songs, axis=1)]\n",
    "            \n",
    "                    # 19. If no more available recommendations, inform the user:\n",
    "            \n",
    "                    if available_songs2.empty:\n",
    "                        print(\"Sorry, no more recommendations available.\")\n",
    "                        break\n",
    "                    \n",
    "                    # 20. Filter songs different from input & the ones rejected by the user:\n",
    "            \n",
    "                    cluster_songs = cluster_df[(cluster_df['song'].str.lower() != input_song) & \n",
    "                                    (cluster_df['artist'].str.lower() != input_artist) &\n",
    "                                    (~cluster_df.apply(lambda x: (x['song'].lower(), x['artist'].lower()) in rejected_songs, axis=1))]\n",
    "                \n",
    "                    # 21. If no more available recommendations on cluster filtered, inform the user:\n",
    "                \n",
    "                    if cluster_songs.empty:\n",
    "                        print(\"Sorry, the provided song doesn't exist or couldn't be retrieved. Let's try another search.\")\n",
    "                        break\n",
    "                \n",
    "                    # 22. Present a recommended song different from input & the ones rejected by the user:\n",
    "                \n",
    "                    recommended_song2 = cluster_songs.sample(1)\n",
    "                        \n",
    "                    print(f\"Your selected song: {input_song}' by '{input_artist}'! Let me recommend something else for you:\")\n",
    "                    print(f\"Title: {recommended_song2['song'].values[0]}, Artist: {recommended_song2['artist'].values[0]}\")\n",
    "                \n",
    "                    # 23. Ask for user feedback on the recommendation:\n",
    "                \n",
    "                    feedback2 = input(\"Was this recommendation okay for you? (yes/no): \").lower()\n",
    "            \n",
    "                    # 24. Handle user feedback:\n",
    "            \n",
    "                    if feedback2 == 'yes':\n",
    "                        print(\"Awesome! I'm glad you liked it.\")\n",
    "                        print(\"Enjoy your music adventure!\")\n",
    "                        print(\"By the way, did you know that music is the best companion? It's like a good friend always ready to groove with you!\")\n",
    "                        print(\"Remember, music has no boundaries - it's a language everyone understands!\")\n",
    "                        sys.exit(\"🎉 Congratulations! You've found a fantastic recommendation! Enjoy your tunes and have a fantastic day! 🎵🌟\")\n",
    "                    else:\n",
    "                    \n",
    "                        # 25. Add rejected song to the set and continue the loop:\n",
    "                \n",
    "                        rejected_songs.add((recommended_song2['song'].values[0].lower(), recommended_song2['artist'].values[0].lower()))\n",
    "                        continue\n",
    "                    \n",
    "                else:\n",
    "                \n",
    "                    # 26. If not input found, show error message:\n",
    "                \n",
    "                    print(\"Sorry, the provided song doesn't exist or couldn't be retrieved. Let's try another search.\")\n",
    "                    break"
   ]
  },
  {
   "cell_type": "markdown",
   "id": "1b91feba",
   "metadata": {},
   "source": [
    "---------"
   ]
  },
  {
   "cell_type": "markdown",
   "id": "f8f370c3",
   "metadata": {},
   "source": [
    "### Tests"
   ]
  },
  {
   "cell_type": "code",
   "execution_count": 7,
   "id": "90906a54",
   "metadata": {},
   "outputs": [
    {
     "name": "stdout",
     "output_type": "stream",
     "text": [
      "🎵 Welcome to the Song Recommender! 🎵\n",
      "Let's explore some amazing tunes together!\n",
      "Enter the title of a song: lovin on me\n",
      "Enter the artist: jack harlow\n",
      "'Your selected song: lovin on me' by 'jack harlow'! Let me recommend something else for you:\n",
      "Title: the buds of youth are still lingering there, Artist: luminara stellaris\n",
      "Was this recommendation okay for you? (yes/no): no\n",
      "'Your selected song: lovin on me' by 'jack harlow'! Let me recommend something else for you:\n",
      "Title: snowman, Artist: sia\n",
      "Was this recommendation okay for you? (yes/no): no\n",
      "'Your selected song: lovin on me' by 'jack harlow'! Let me recommend something else for you:\n",
      "Title: single soon, Artist: selena gomez\n",
      "Was this recommendation okay for you? (yes/no): yes\n",
      "Awesome! I'm glad you liked it.Enjoy your music adventure!\n",
      "By the way, did you know that music is the best companion? It's like a good friend always ready to groove with you!\n",
      "Remember, music has no boundaries - it's a language everyone understands!\n"
     ]
    },
    {
     "ename": "SystemExit",
     "evalue": "🎉 Congratulations! You've found a fantastic recommendation! Enjoy your tunes and have a fantastic day! 🎵🌟",
     "output_type": "error",
     "traceback": [
      "An exception has occurred, use %tb to see the full traceback.\n",
      "\u001b[0;31mSystemExit\u001b[0m\u001b[0;31m:\u001b[0m 🎉 Congratulations! You've found a fantastic recommendation! Enjoy your tunes and have a fantastic day! 🎵🌟\n"
     ]
    }
   ],
   "source": [
    "# Testing with input from hot_songs & not good recommendation & good recommendation:\n",
    "\n",
    "song_recommender()"
   ]
  },
  {
   "cell_type": "code",
   "execution_count": 8,
   "id": "5831c7ed",
   "metadata": {},
   "outputs": [
    {
     "name": "stdout",
     "output_type": "stream",
     "text": [
      "🎵 Welcome to the Song Recommender! 🎵\n",
      "Let's explore some amazing tunes together!\n",
      "Enter the title of a song: like a rolling stone\n",
      "Enter the artist: bob dylan\n",
      "Your selected song: like a rolling stone' by 'bob dylan'! Let me recommend something else for you:\n",
      "Title: not a love song, Artist: uh huh her\n",
      "Was this recommendation okay for you? (yes/no): no\n",
      "Your selected song: like a rolling stone' by 'bob dylan'! Let me recommend something else for you:\n",
      "Title: i shall overcome - fist full of dollars, Artist: hard-fi\n",
      "Was this recommendation okay for you? (yes/no): yes\n",
      "Awesome! I'm glad you liked it.\n",
      "Enjoy your music adventure!\n",
      "By the way, did you know that music is the best companion? It's like a good friend always ready to groove with you!\n",
      "Remember, music has no boundaries - it's a language everyone understands!\n"
     ]
    },
    {
     "ename": "SystemExit",
     "evalue": "🎉 Congratulations! You've found a fantastic recommendation! Enjoy your tunes and have a fantastic day! 🎵🌟",
     "output_type": "error",
     "traceback": [
      "An exception has occurred, use %tb to see the full traceback.\n",
      "\u001b[0;31mSystemExit\u001b[0m\u001b[0;31m:\u001b[0m 🎉 Congratulations! You've found a fantastic recommendation! Enjoy your tunes and have a fantastic day! 🎵🌟\n"
     ]
    }
   ],
   "source": [
    "# Testing with input from clusters & not good recommendation & good recommendation:\n",
    "\n",
    "song_recommender()"
   ]
  },
  {
   "cell_type": "code",
   "execution_count": 9,
   "id": "1ac0870e",
   "metadata": {},
   "outputs": [
    {
     "name": "stdout",
     "output_type": "stream",
     "text": [
      "🎵 Welcome to the Song Recommender! 🎵\n",
      "Let's explore some amazing tunes together!\n",
      "Enter the title of a song: dfsdfsdgdfgdsf\n",
      "Enter the artist: sdfgsdgsdfgsdf\n",
      "Sorry, the provided song doesn't exist or couldn't be retrieved. Let's try another search.\n",
      "Enter the title of a song: control\n",
      "Enter the artist: zoe wees\n",
      "Your selected song: control' by 'zoe wees'! Let me recommend something else for you:\n",
      "Title: alice's restaurant massacree, Artist: arlo guthrie\n",
      "Was this recommendation okay for you? (yes/no): yes\n",
      "Awesome! I'm glad you liked it.\n",
      "Enjoy your music adventure!\n",
      "By the way, did you know that music is the best companion? It's like a good friend always ready to groove with you!\n",
      "Remember, music has no boundaries - it's a language everyone understands!\n"
     ]
    },
    {
     "ename": "SystemExit",
     "evalue": "🎉 Congratulations! You've found a fantastic recommendation! Enjoy your tunes and have a fantastic day! 🎵🌟",
     "output_type": "error",
     "traceback": [
      "An exception has occurred, use %tb to see the full traceback.\n",
      "\u001b[0;31mSystemExit\u001b[0m\u001b[0;31m:\u001b[0m 🎉 Congratulations! You've found a fantastic recommendation! Enjoy your tunes and have a fantastic day! 🎵🌟\n"
     ]
    }
   ],
   "source": [
    "# Testing input not found:\n",
    "\n",
    "song_recommender()"
   ]
  },
  {
   "cell_type": "code",
   "execution_count": 10,
   "id": "95fcc3b2",
   "metadata": {},
   "outputs": [
    {
     "name": "stdout",
     "output_type": "stream",
     "text": [
      "🎵 Welcome to the Song Recommender! 🎵\n",
      "Let's explore some amazing tunes together!\n",
      "Enter the title of a song: \n",
      "Enter the artist: \n",
      "Please make sure to provide both a song title and an artist name.\n",
      "Enter the title of a song: sdfsd\n",
      "Enter the artist: \n",
      "Please make sure to provide both a song title and an artist name.\n",
      "Enter the title of a song: \n",
      "Enter the artist: sdfsdf\n",
      "Please make sure to provide both a song title and an artist name.\n",
      "Enter the title of a song: legs - remix\n",
      "Enter the artist: zz top\n",
      "Your selected song: legs - remix' by 'zz top'! Let me recommend something else for you:\n",
      "Title: mind your manners (feat. icona pop), Artist: chiddy bang\n",
      "Was this recommendation okay for you? (yes/no): yes\n",
      "Awesome! I'm glad you liked it.\n",
      "Enjoy your music adventure!\n",
      "By the way, did you know that music is the best companion? It's like a good friend always ready to groove with you!\n",
      "Remember, music has no boundaries - it's a language everyone understands!\n"
     ]
    },
    {
     "ename": "SystemExit",
     "evalue": "🎉 Congratulations! You've found a fantastic recommendation! Enjoy your tunes and have a fantastic day! 🎵🌟",
     "output_type": "error",
     "traceback": [
      "An exception has occurred, use %tb to see the full traceback.\n",
      "\u001b[0;31mSystemExit\u001b[0m\u001b[0;31m:\u001b[0m 🎉 Congratulations! You've found a fantastic recommendation! Enjoy your tunes and have a fantastic day! 🎵🌟\n"
     ]
    }
   ],
   "source": [
    "# Testing error due to not filling the fields:\n",
    "\n",
    "song_recommender()"
   ]
  }
 ],
 "metadata": {
  "kernelspec": {
   "display_name": "Python 3 (ipykernel)",
   "language": "python",
   "name": "python3"
  },
  "language_info": {
   "codemirror_mode": {
    "name": "ipython",
    "version": 3
   },
   "file_extension": ".py",
   "mimetype": "text/x-python",
   "name": "python",
   "nbconvert_exporter": "python",
   "pygments_lexer": "ipython3",
   "version": "3.11.5"
  }
 },
 "nbformat": 4,
 "nbformat_minor": 5
}
